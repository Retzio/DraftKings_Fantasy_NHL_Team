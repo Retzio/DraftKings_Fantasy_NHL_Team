{
 "cells": [
  {
   "cell_type": "markdown",
   "id": "fc0c5d55-810e-4a2b-83ea-603015069f54",
   "metadata": {},
   "source": [
    "# Draft Kings Fantasy Team GLPK Solver\n",
    "\n",
    "## By Retzio Gredig \n",
    "Created 2/26/22\n",
    "\n",
    "Last Edited 3/18/22"
   ]
  },
  {
   "cell_type": "markdown",
   "id": "c699d78f-96af-4dd1-bb90-43f28abb8fa3",
   "metadata": {},
   "source": [
    "***"
   ]
  },
  {
   "cell_type": "markdown",
   "id": "bce7dbbf-5c27-4e0c-9a99-ed4e82b427ab",
   "metadata": {},
   "source": [
    "# Table of Contents<a id=\"Top\"></a>\n",
    "\n",
    "* [1. Project Overview](#1)<br>\n",
    "    * [1.1 Description](#1.1)<br>\n",
    "    * [1.2 Objectives](#1.2)<br>\n",
    "    * [1.3 Constraints](#1.3)<br>\n",
    "* [2. Import Packages](#2) <br>\n",
    "* [3. Data](#3)<br>\n",
    "* [4. Historical Model Definition](#4)<br>\n",
    "    * [4.1 Define Decision Variables](#4.1)<br>\n",
    "    * [4.2 Define Objective Function](#4.2)<br>\n",
    "    * [4.3 Define Constraints](#4.3)<br>        \n",
    "* [5. Historical Model Solution](#5)<br>\n",
    "* [6. Game Model Definition](#6)<br>\n",
    "    * [6.1 Data](#6.1)<br>\n",
    "    * [6.2 Define Decision Variables](#6.2)<br>\n",
    "    * [6.3 Define Objective Function](#6.3)<br>\n",
    "    * [6.4 Define Constraints](#6.4)<br>       \n",
    "* [7. Game Model Solution](#7)<br>\n",
    "* [8. Final Report of Solutions Found](#8)<br>"
   ]
  },
  {
   "cell_type": "markdown",
   "id": "ee56a53a-a40b-44af-83b6-7472ae223d4f",
   "metadata": {},
   "source": [
    "***"
   ]
  },
  {
   "cell_type": "markdown",
   "id": "f2715985-98eb-422d-bbb3-2b6a6ff3de05",
   "metadata": {},
   "source": [
    "## 1. Project Overview<a id=1></a>"
   ]
  },
  {
   "cell_type": "markdown",
   "id": "7fc12401-f78c-4f6d-967d-e43457d1fc71",
   "metadata": {},
   "source": [
    "### 1.1 Description<a id=1.1></a>\n",
    "Who wants to win at Daily Fantasy Sports on Draftkings? Everybody? Anybody? Well, let’s be honest, this project isn’t going to make you win, but it is a fun optimization problem! And that’s really the point in this class. \n",
    "\n",
    "Imagine that we were interested in joining one of the Draftkings’ National Hockey League (NHL) contests on Feb 8, 2022. There were seven real NHL games played amongst fourteen teams. The fantasy contest involves selecting a collection of players (a lineup) in these seven games and you “play” against other people that (potentially) selected different lineups. The winner of the contest is the person whose team accumulated the most fantasy points. The fantasy points are accumulated according to a set of rules (see Figure 1) that are related to how the players perform in their real-life games. Selecting a lineup is subject to a fictitious salary cap and several additional constraints that are outlined below. The goal of this project is to select an “optimal” lineup. What is “optimal?” That is for you to decide!  \n"
   ]
  },
  {
   "cell_type": "markdown",
   "id": "a820377a-edd7-4d7c-bb30-e8fd0728ae9f",
   "metadata": {},
   "source": [
    "### 1.2 Objectives<a id=1.2></a>\n",
    "1.\tUse python to apply optimization models and solution techniques learned in class to solve a real-world problem.\n",
    "2.\tYou will have to do some exploratory data analysis using the historical data to carefully consider your objective function coefficients. \n",
    "3.\tYou will solve at least two optimization problems for this project. One problem will involve selecting a lineup based on historical information. The second problem will involve selecting the optimal lineup based on how the players performed during their actual games. \n",
    "4.\tWrite a report summarizing your results. "
   ]
  },
  {
   "cell_type": "markdown",
   "id": "dc0f8717-c638-445c-bd3f-34cd6a9d9a14",
   "metadata": {},
   "source": [
    "### 1.3 Constraints<a id=1.3></a>\n",
    "1. The fantasy team must have nine players. \n",
    "2. The salary of your nine players may not exceed &#0036;50,000\n",
    "3. You need players from at least three different teams \n",
    "4. The makeup of the team in terms of positions is\n",
    "    * Two Centers (C) \n",
    "    * Three Wings (W) \n",
    "    * Two Defenders (D),\n",
    "    * One Utility (C, W, or D), and \n",
    "    * One Goalie\n"
   ]
  },
  {
   "cell_type": "markdown",
   "id": "83259d84-cd70-44aa-b91a-03720fec11a9",
   "metadata": {},
   "source": [
    "##### [Back to Top](#Top)"
   ]
  },
  {
   "cell_type": "markdown",
   "id": "3d665a9a-a931-4a59-bb8d-53ad39f1d6cf",
   "metadata": {},
   "source": [
    "## 2. Import Packages<a id=2></a>"
   ]
  },
  {
   "cell_type": "markdown",
   "id": "ae322bb5-cea5-4116-be34-e15106f4b15d",
   "metadata": {},
   "source": [
    "<hr>"
   ]
  },
  {
   "cell_type": "code",
   "execution_count": 1,
   "id": "e0f8e266-ba7c-4499-b73f-522a149772c0",
   "metadata": {},
   "outputs": [],
   "source": [
    "import pandas as pd\n",
    "import pyomo.environ as pe\n",
    "import matplotlib.pyplot as plt\n",
    "import seaborn as sns"
   ]
  },
  {
   "cell_type": "markdown",
   "id": "4915c389-3ebc-48d8-8074-f897384a5cdc",
   "metadata": {},
   "source": [
    "##### [Back to Top](#Top)"
   ]
  },
  {
   "cell_type": "markdown",
   "id": "bb78b48f-37bf-4797-b224-ac1515daf3d7",
   "metadata": {},
   "source": [
    "## 3. Data<a id=3></a>"
   ]
  },
  {
   "cell_type": "markdown",
   "id": "9f9a7d1e-e202-434e-9c18-2d7c97a1fed4",
   "metadata": {},
   "source": [
    "<hr>"
   ]
  },
  {
   "cell_type": "code",
   "execution_count": 2,
   "id": "af092287-1079-4508-87d5-aee395b4fe41",
   "metadata": {},
   "outputs": [],
   "source": [
    "raw_DK_salaries = pd.read_csv('NHL_Data/DKSalaries.csv')\n",
    "raw_skaters= pd.read_csv('NHL_Data/skaters.csv')\n",
    "raw_goalies = pd.read_csv('NHL_Data/goalies.csv')\n",
    "raw_skaters_actual= pd.read_csv('NHL_Data/skaters-actual.csv')                          \n",
    "raw_goalies_actual= pd.read_csv('NHL_Data/goalies-actual.csv')"
   ]
  },
  {
   "cell_type": "code",
   "execution_count": 3,
   "id": "f6c0f6c7-d3f9-457b-9670-68ec589b0038",
   "metadata": {},
   "outputs": [],
   "source": [
    "DV_Index = list(raw_DK_salaries['Name'])"
   ]
  },
  {
   "cell_type": "code",
   "execution_count": 4,
   "id": "f89a2592-cc6d-4fdf-96c3-2aad54b11404",
   "metadata": {},
   "outputs": [],
   "source": [
    "skater_points = pd.DataFrame()\n",
    "skater_points = raw_DK_salaries.loc[:,['Name', 'AvgPointsPerGame', 'Position', 'Salary', 'TeamAbbrev']]\n",
    "skater_points.set_index('Name', inplace=True)"
   ]
  },
  {
   "cell_type": "code",
   "execution_count": 5,
   "id": "0b67a691-3ab5-4a3b-8281-af804c581e7f",
   "metadata": {},
   "outputs": [],
   "source": [
    "DV_team_index = list(raw_DK_salaries['TeamAbbrev'].unique())"
   ]
  },
  {
   "cell_type": "code",
   "execution_count": 6,
   "id": "addfda15-69ff-4d1b-a218-1fe3adb716b4",
   "metadata": {},
   "outputs": [],
   "source": [
    "## Get All Game Info\n",
    "game_info = pd.DataFrame()\n",
    "game_info['Game'] = raw_DK_salaries['Game Info'].str.split(' ').str[0] \n",
    "game_info = game_info.drop_duplicates()\n",
    "game_info['T1'] = game_info['Game'].str.split('@').str[0] \n",
    "game_info['T2'] = game_info['Game'].str.rsplit('@').str[1] "
   ]
  },
  {
   "cell_type": "code",
   "execution_count": 7,
   "id": "c1e98fc4-5757-48f0-99d1-a1709af32fcd",
   "metadata": {},
   "outputs": [],
   "source": [
    "## Get Binary for Player Position\n",
    "skater_pos = pd.DataFrame()\n",
    "skater_pos.index = skater_points.index\n",
    "skater_pos['C'] = (skater_points['Position'] == 'C').astype(int)\n",
    "skater_pos['D'] = (skater_points['Position'] == 'D').astype(int)\n",
    "skater_pos['G'] = (skater_points['Position'] == 'G').astype(int)\n",
    "skater_pos['W'] = (skater_points['Position'].str[-1] == 'W').astype(int)                           "
   ]
  },
  {
   "cell_type": "code",
   "execution_count": 8,
   "id": "80394ed1-02af-4354-94f7-e554c04b0c3b",
   "metadata": {},
   "outputs": [],
   "source": [
    "skater_team = pd.DataFrame()\n",
    "skater_team.index = skater_points.index\n",
    "for x in DV_team_index:\n",
    "    skater_team[x] = ((skater_points['TeamAbbrev'] == x).astype(int) )"
   ]
  },
  {
   "cell_type": "markdown",
   "id": "01a6659c-c2f7-43b5-9e79-699c09527263",
   "metadata": {},
   "source": [
    "##### [Back to Top](#Top)"
   ]
  },
  {
   "cell_type": "markdown",
   "id": "3d96acdd-2157-4487-8f7b-d48af9822ce0",
   "metadata": {},
   "source": [
    "## 4. Historical Model Definition<a id=4></a>"
   ]
  },
  {
   "cell_type": "markdown",
   "id": "a9670c0c-7682-4f0d-ad4f-a38932a1c8b8",
   "metadata": {},
   "source": [
    "<hr>"
   ]
  },
  {
   "cell_type": "code",
   "execution_count": 9,
   "id": "10994b2f-d4d5-4af5-b7c4-a5d68a174eab",
   "metadata": {},
   "outputs": [],
   "source": [
    "model = pe.ConcreteModel()"
   ]
  },
  {
   "cell_type": "markdown",
   "id": "754e2e9b-fdb8-4c53-8990-f1485d3c96c0",
   "metadata": {},
   "source": [
    "### 4.1 Define Decision Variables<a id=4.1></a>"
   ]
  },
  {
   "cell_type": "code",
   "execution_count": 10,
   "id": "58b1cf14-5266-44b8-8065-a067b0953366",
   "metadata": {},
   "outputs": [],
   "source": [
    "model.skater = pe.Var(DV_Index, domain = pe.Binary)\n",
    "model.teams =  pe.Var(DV_team_index, domain = pe.Binary)\n",
    "model.team_set = pe.Set(initialize = DV_team_index)"
   ]
  },
  {
   "cell_type": "markdown",
   "id": "6a2a932f-190e-4687-a76c-b1600868dda7",
   "metadata": {},
   "source": [
    "### 4.2 Define Objective Function<a id=4.2></a>"
   ]
  },
  {
   "cell_type": "code",
   "execution_count": 11,
   "id": "6c443b43-1c4b-4f14-b15b-8da37f598bf5",
   "metadata": {},
   "outputs": [],
   "source": [
    "model.obj = pe.Objective(expr = sum([skater_points.loc[c, 'AvgPointsPerGame']*model.skater[c] for c in DV_Index]),\n",
    "                         sense = pe.maximize)\n",
    "#model.obj.pprint()"
   ]
  },
  {
   "cell_type": "markdown",
   "id": "da0179b3-c65f-47f4-9da8-0951683571a6",
   "metadata": {},
   "source": [
    "### 4.3 Define Constraints<a id=4.3></a>"
   ]
  },
  {
   "cell_type": "code",
   "execution_count": 12,
   "id": "d58d5a00-6971-4a66-8910-ec4ea11711b9",
   "metadata": {},
   "outputs": [],
   "source": [
    "#Budget Constraint\n",
    "model.cons_budget = pe.Constraint(expr = sum([skater_points.loc[idx, 'Salary']*model.skater[idx] \n",
    "                                             for idx in DV_Index]) <= 50000)\n",
    "#Total of 9 Players Constraint\n",
    "model.cons_size = pe.Constraint(expr = sum(model.skater[idx] for idx in DV_Index) == 9)\n",
    "\n",
    "# Center Constraint\n",
    "model.cons_center = pe.Constraint(expr = sum([skater_pos.loc[idx, 'C'] * model.skater[idx] \n",
    "                                             for idx in DV_Index]) >= 2)\n",
    "\n",
    "# Wing Constraint\n",
    "model.cons_wing = pe.Constraint(expr = sum([skater_pos.loc[idx, 'W'] * model.skater[idx] \n",
    "                                             for idx in DV_Index]) >= 3)\n",
    "\n",
    "# Defence Constraint\n",
    "model.cons_defence = pe.Constraint(expr = sum([skater_pos.loc[idx, 'D'] * model.skater[idx] \n",
    "                                             for idx in DV_Index]) >= 2)\n",
    "\n",
    "# Goalie Constraint\n",
    "model.cons_goalie = pe.Constraint(expr = sum([skater_pos.loc[idx, 'G'] * model.skater[idx] \n",
    "                                             for idx in DV_Index]) == 1)\n",
    "    \n",
    "    \n",
    "#Team Constraints 3 or more teams\n",
    "     \n",
    "def team_rule(_, t):\n",
    "    return sum([skater_team.loc[idx, t] * model.skater[idx] for idx in DV_Index]) >= model.teams[t]\n",
    "\n",
    "def team(_):\n",
    "    return sum([model.teams[i] for i in DV_team_index]) >=3\n",
    "\n",
    "model.team_cons = pe.Constraint(model.team_set, rule = team_rule)"
   ]
  },
  {
   "cell_type": "markdown",
   "id": "33b67686-0928-4861-993b-1b34c227d96b",
   "metadata": {},
   "source": [
    "##### [Back to Top](#Top)"
   ]
  },
  {
   "cell_type": "markdown",
   "id": "76aac7aa-fa4e-45e3-bb70-bd857aba185a",
   "metadata": {},
   "source": [
    "## 5. Historical Model Solution<a id=5></a>"
   ]
  },
  {
   "cell_type": "markdown",
   "id": "48a6ab22-41ff-41d8-8919-fa4d5d52f61e",
   "metadata": {},
   "source": [
    "<hr>"
   ]
  },
  {
   "cell_type": "code",
   "execution_count": 13,
   "id": "f2fe698f-38d9-452d-8fd6-6298ccb5fc89",
   "metadata": {},
   "outputs": [
    {
     "name": "stdout",
     "output_type": "stream",
     "text": [
      "ok optimal\n"
     ]
    }
   ],
   "source": [
    "opt = pe.SolverFactory('glpk')\n",
    "success = opt.solve(model)\n",
    "print(success.solver.status, success.solver.termination_condition)"
   ]
  },
  {
   "cell_type": "code",
   "execution_count": 14,
   "id": "95ddcae9-983e-4e99-9e15-3a7dd74f6c46",
   "metadata": {},
   "outputs": [
    {
     "name": "stdout",
     "output_type": "stream",
     "text": [
      "Our team has a total of 142.70 Draft King points!\n",
      "The players have an average of 15.86 Draft King points!\n"
     ]
    }
   ],
   "source": [
    "obj_val = model.obj.expr()\n",
    "print(f'Our team has a total of {obj_val:.2f} Draft King points!')\n",
    "avg_obj_val = obj_val / 9\n",
    "print(f'The players have an average of {avg_obj_val:.2f} Draft King points!')\n"
   ]
  },
  {
   "cell_type": "code",
   "execution_count": 15,
   "id": "bdf278a5-76cb-4f6a-b29d-47cf6ca9ef2e",
   "metadata": {},
   "outputs": [],
   "source": [
    "DV = [] \n",
    "for index in DV_Index:\n",
    "    DV.append(model.skater[index].value)"
   ]
  },
  {
   "cell_type": "code",
   "execution_count": 16,
   "id": "d5e29f2e-eacd-4542-942a-44b9269aebc6",
   "metadata": {},
   "outputs": [
    {
     "data": {
      "text/html": [
       "<div>\n",
       "<style scoped>\n",
       "    .dataframe tbody tr th:only-of-type {\n",
       "        vertical-align: middle;\n",
       "    }\n",
       "\n",
       "    .dataframe tbody tr th {\n",
       "        vertical-align: top;\n",
       "    }\n",
       "\n",
       "    .dataframe thead th {\n",
       "        text-align: right;\n",
       "    }\n",
       "</style>\n",
       "<table border=\"1\" class=\"dataframe\">\n",
       "  <thead>\n",
       "    <tr style=\"text-align: right;\">\n",
       "      <th></th>\n",
       "      <th>Average DK Points Per Game</th>\n",
       "      <th>Position</th>\n",
       "      <th>Salary</th>\n",
       "      <th>Team</th>\n",
       "    </tr>\n",
       "    <tr>\n",
       "      <th>Name</th>\n",
       "      <th></th>\n",
       "      <th></th>\n",
       "      <th></th>\n",
       "      <th></th>\n",
       "    </tr>\n",
       "  </thead>\n",
       "  <tbody>\n",
       "    <tr>\n",
       "      <th>Bo Horvat</th>\n",
       "      <td>9.87</td>\n",
       "      <td>C</td>\n",
       "      <td>3900</td>\n",
       "      <td>VAN</td>\n",
       "    </tr>\n",
       "    <tr>\n",
       "      <th>Jack Drury</th>\n",
       "      <td>14.30</td>\n",
       "      <td>C</td>\n",
       "      <td>2500</td>\n",
       "      <td>CAR</td>\n",
       "    </tr>\n",
       "    <tr>\n",
       "      <th>Dougie Hamilton</th>\n",
       "      <td>12.94</td>\n",
       "      <td>D</td>\n",
       "      <td>5400</td>\n",
       "      <td>NJ</td>\n",
       "    </tr>\n",
       "    <tr>\n",
       "      <th>Jon Lizotte</th>\n",
       "      <td>9.70</td>\n",
       "      <td>D</td>\n",
       "      <td>2500</td>\n",
       "      <td>MIN</td>\n",
       "    </tr>\n",
       "    <tr>\n",
       "      <th>Louis Domingue</th>\n",
       "      <td>33.50</td>\n",
       "      <td>G</td>\n",
       "      <td>7300</td>\n",
       "      <td>PIT</td>\n",
       "    </tr>\n",
       "    <tr>\n",
       "      <th>Alex Ovechkin</th>\n",
       "      <td>17.64</td>\n",
       "      <td>LW</td>\n",
       "      <td>8800</td>\n",
       "      <td>WAS</td>\n",
       "    </tr>\n",
       "    <tr>\n",
       "      <th>Max Pacioretty</th>\n",
       "      <td>17.30</td>\n",
       "      <td>LW</td>\n",
       "      <td>8200</td>\n",
       "      <td>VGK</td>\n",
       "    </tr>\n",
       "    <tr>\n",
       "      <th>Bryan Rust</th>\n",
       "      <td>15.68</td>\n",
       "      <td>RW</td>\n",
       "      <td>7100</td>\n",
       "      <td>PIT</td>\n",
       "    </tr>\n",
       "    <tr>\n",
       "      <th>Matt Boldy</th>\n",
       "      <td>11.77</td>\n",
       "      <td>RW</td>\n",
       "      <td>4300</td>\n",
       "      <td>MIN</td>\n",
       "    </tr>\n",
       "  </tbody>\n",
       "</table>\n",
       "</div>"
      ],
      "text/plain": [
       "                 Average DK Points Per Game Position  Salary Team\n",
       "Name                                                             \n",
       "Bo Horvat                              9.87        C    3900  VAN\n",
       "Jack Drury                            14.30        C    2500  CAR\n",
       "Dougie Hamilton                       12.94        D    5400   NJ\n",
       "Jon Lizotte                            9.70        D    2500  MIN\n",
       "Louis Domingue                        33.50        G    7300  PIT\n",
       "Alex Ovechkin                         17.64       LW    8800  WAS\n",
       "Max Pacioretty                        17.30       LW    8200  VGK\n",
       "Bryan Rust                            15.68       RW    7100  PIT\n",
       "Matt Boldy                            11.77       RW    4300  MIN"
      ]
     },
     "execution_count": 16,
     "metadata": {},
     "output_type": "execute_result"
    }
   ],
   "source": [
    "solution_h = skater_points['s'] = DV\n",
    "solution_h = skater_points[skater_points['s'] != 0.0]\n",
    "solution_h = solution_h.drop('s', axis = 1)\n",
    "solution_h = solution_h.rename(columns = {'AvgPointsPerGame':'Average DK Points Per Game', 'TeamAbbrev':'Team'})\n",
    "solution_h = solution_h.sort_values('Position')\n",
    "s_player_1 = pd.DataFrame()\n",
    "s_player_1 = solution_h\n",
    "solution_h\n"
   ]
  },
  {
   "cell_type": "code",
   "execution_count": 17,
   "id": "b2a2621e-e49c-4f1f-b7ce-3a8df8476df0",
   "metadata": {},
   "outputs": [
    {
     "data": {
      "text/html": [
       "<div>\n",
       "<style scoped>\n",
       "    .dataframe tbody tr th:only-of-type {\n",
       "        vertical-align: middle;\n",
       "    }\n",
       "\n",
       "    .dataframe tbody tr th {\n",
       "        vertical-align: top;\n",
       "    }\n",
       "\n",
       "    .dataframe thead th {\n",
       "        text-align: right;\n",
       "    }\n",
       "</style>\n",
       "<table border=\"1\" class=\"dataframe\">\n",
       "  <thead>\n",
       "    <tr style=\"text-align: right;\">\n",
       "      <th></th>\n",
       "      <th>Average DK Points Per Game</th>\n",
       "      <th>Salary</th>\n",
       "    </tr>\n",
       "  </thead>\n",
       "  <tbody>\n",
       "    <tr>\n",
       "      <th>Sum</th>\n",
       "      <td>142.70</td>\n",
       "      <td>50000.00</td>\n",
       "    </tr>\n",
       "    <tr>\n",
       "      <th>Average</th>\n",
       "      <td>15.86</td>\n",
       "      <td>5555.56</td>\n",
       "    </tr>\n",
       "  </tbody>\n",
       "</table>\n",
       "</div>"
      ],
      "text/plain": [
       "         Average DK Points Per Game    Salary\n",
       "Sum                          142.70  50000.00\n",
       "Average                       15.86   5555.56"
      ]
     },
     "execution_count": 17,
     "metadata": {},
     "output_type": "execute_result"
    }
   ],
   "source": [
    "t = pd.DataFrame(solution_h.sum(numeric_only = True, axis = 0))\n",
    "t = t.T\n",
    "t.index = ['Sum']\n",
    "a = pd.DataFrame(solution_h.mean(numeric_only = True, axis = 0))\n",
    "a = a.T\n",
    "t.loc['Average'] = a.loc[0]\n",
    "t = t.round(decimals = 2)\n",
    "t"
   ]
  },
  {
   "cell_type": "markdown",
   "id": "f43cc78a-1cb6-47e3-8267-f6c37c8c59d3",
   "metadata": {},
   "source": [
    "##### [Back to Top](#Top)"
   ]
  },
  {
   "cell_type": "markdown",
   "id": "e3c37552-632e-4acc-acf7-3c8ab0ddfae8",
   "metadata": {},
   "source": [
    "## 6. Game Model Definition<a id=6></a>"
   ]
  },
  {
   "cell_type": "markdown",
   "id": "5ee425ca-16df-44f7-a4f4-6b1b95fa1c0f",
   "metadata": {},
   "source": [
    "<hr>"
   ]
  },
  {
   "cell_type": "markdown",
   "id": "b0f26cd5-2445-48e4-b61d-1b689e2c9462",
   "metadata": {},
   "source": [
    "### 6.1 Data<a id=6.1></a>"
   ]
  },
  {
   "cell_type": "code",
   "execution_count": 18,
   "id": "4af846bb-5f27-40c8-abdd-09fa4ad740dd",
   "metadata": {},
   "outputs": [],
   "source": [
    "df = raw_goalies_actual.loc[:,['player', 'w', 'ot', 'svs', 'ga', 'so']]\n",
    "df['points'] = (df['w'] * 6 )  + (df['svs'] * .7) - (df['ga'] * 3.5) + (df['ot'] * 2) + (df['so'] * 4)\n",
    "df.loc[df['svs'] >= 35, 'points'] = df['points']+3  \n",
    "goalie_points_game = df[['player', 'points']]"
   ]
  },
  {
   "cell_type": "code",
   "execution_count": 19,
   "id": "13a8f8e2-7f28-4652-bd1d-377be009c7fc",
   "metadata": {},
   "outputs": [],
   "source": [
    "df = raw_skaters_actual.loc[:,['player', 'g', 'a', 'p', 's', 'shp']]\n",
    "df['points'] = (df['g'] * 8.5) + (df['a'] * 5) + (df['s'] * 1.5) + (df['shp'] * 2)\n",
    "df.loc[df['s'] >= 5, 'points'] = df['points']+3 \n",
    "df.loc[df['g'] >= 3, 'points'] = df['points']+3 \n",
    "df.loc[df['p'] >= 3, 'points'] = df['points']+3\n",
    "player_points_game = df[['player', 'points']]"
   ]
  },
  {
   "cell_type": "code",
   "execution_count": 20,
   "id": "2c712b9d-97a9-44be-aae7-c38f972c2dbf",
   "metadata": {},
   "outputs": [],
   "source": [
    "all_players = pd.concat([ goalie_points_game, player_points_game])\n",
    "all_players = all_players.rename(columns = {'player':'Name'})"
   ]
  },
  {
   "cell_type": "code",
   "execution_count": 21,
   "id": "7b80abcd-491f-492c-8a06-4dea4893a224",
   "metadata": {},
   "outputs": [],
   "source": [
    "df = pd.DataFrame()\n",
    "df = raw_DK_salaries.loc[:,['Name', 'Position', 'Salary', 'TeamAbbrev']]\n",
    "all_player_points = pd.merge(all_players, df, how = \"left\", on = ['Name'])\n",
    "all_player_points.set_index('Name', inplace=True)"
   ]
  },
  {
   "cell_type": "code",
   "execution_count": 22,
   "id": "9c11071f-2d2f-46ed-9052-385c9f0179bc",
   "metadata": {},
   "outputs": [],
   "source": [
    "DV_Index = list(all_player_points.index)"
   ]
  },
  {
   "cell_type": "code",
   "execution_count": 23,
   "id": "66b0dcda-78f0-437c-8374-bf417de64c92",
   "metadata": {},
   "outputs": [],
   "source": [
    "## Get Binary for Player Position\n",
    "skater_pos = pd.DataFrame()\n",
    "skater_pos.index = all_player_points.index\n",
    "skater_pos['C'] = (all_player_points['Position'] == 'C').astype(int)\n",
    "skater_pos['D'] = (all_player_points['Position'] == 'D').astype(int)\n",
    "skater_pos['G'] = (all_player_points['Position'] == 'G').astype(int)\n",
    "skater_pos['W'] = (all_player_points['Position'].str[-1] == 'W').astype(int)"
   ]
  },
  {
   "cell_type": "markdown",
   "id": "b207d6ef-5bea-4971-b672-9afde15a19f1",
   "metadata": {},
   "source": [
    "### 6.2 Define Decision Variables<a id=6.2></a>"
   ]
  },
  {
   "cell_type": "code",
   "execution_count": 24,
   "id": "c67a03d6-02dd-440b-bd3f-cd7c7862651d",
   "metadata": {},
   "outputs": [],
   "source": [
    "model = pe.ConcreteModel()\n",
    "model.game = pe.Var(DV_Index, domain = pe.Binary)\n",
    "model.teams =  pe.Var(DV_team_index, domain = pe.Binary)\n",
    "model.team_set = pe.Set(initialize = DV_team_index)"
   ]
  },
  {
   "cell_type": "markdown",
   "id": "7f841e78-c018-4a8b-9092-b87783e4f094",
   "metadata": {},
   "source": [
    "### 6.3 Define Objective Function<a id=6.3></a>"
   ]
  },
  {
   "cell_type": "code",
   "execution_count": 25,
   "id": "693a7c50-79a0-4a4f-92e4-336035ede4f8",
   "metadata": {},
   "outputs": [],
   "source": [
    "model.obj = pe.Objective(expr = sum([all_player_points.loc[c, 'points']*model.game[c] for c in DV_Index]),\n",
    "                         sense = pe.maximize)"
   ]
  },
  {
   "cell_type": "markdown",
   "id": "616d1219-fcc2-4748-9c06-37c037600db6",
   "metadata": {},
   "source": [
    "### 6.4 Define Constraints<a id=6.4></a>"
   ]
  },
  {
   "cell_type": "code",
   "execution_count": 26,
   "id": "f8ef0d1c-eb7a-4794-9be7-b243470f2813",
   "metadata": {},
   "outputs": [],
   "source": [
    "#Budget Constraint\n",
    "model.cons_budget = pe.Constraint(expr = sum([all_player_points.loc[idx, 'Salary']*model.game[idx] \n",
    "                                             for idx in DV_Index]) <= 50000)\n",
    "#Total of 9 Players Constraint\n",
    "model.cons_size = pe.Constraint(expr = sum(model.game[idx] for idx in DV_Index) == 9)\n",
    "\n",
    "# Center Constraint\n",
    "model.cons_center = pe.Constraint(expr = sum([skater_pos.loc[idx, 'C'] * model.game[idx] \n",
    "                                             for idx in DV_Index]) >= 2)\n",
    "\n",
    "# Wing Constraint\n",
    "model.cons_wing = pe.Constraint(expr = sum([skater_pos.loc[idx, 'W'] * model.game[idx] \n",
    "                                             for idx in DV_Index]) >= 3)\n",
    "\n",
    "# Defence Constraint\n",
    "model.cons_defence = pe.Constraint(expr = sum([skater_pos.loc[idx, 'D'] * model.game[idx] \n",
    "                                             for idx in DV_Index]) >= 2)\n",
    "\n",
    "# Goalie Constraint\n",
    "model.cons_goalie = pe.Constraint(expr = sum([skater_pos.loc[idx, 'G'] * model.game[idx] \n",
    "                                             for idx in DV_Index]) == 1)\n",
    "\n",
    "# Team Constraints 3 or more teams\n",
    "     \n",
    "def team_rule(_, t):\n",
    "    return sum([skater_team.loc[idx, t] * model.game[idx] for idx in DV_Index]) >= model.teams[t]\n",
    "\n",
    "def team(_):\n",
    "    return sum([model.teams[i] for i in DV_team_index]) >=3\n",
    "\n",
    "model.team_cons = pe.Constraint(model.team_set, rule = team_rule)\n",
    "                             "
   ]
  },
  {
   "cell_type": "markdown",
   "id": "a8014f5e-6b39-4cfc-8f21-80d087e63ec6",
   "metadata": {},
   "source": [
    "##### [Back to Top](#Top)"
   ]
  },
  {
   "cell_type": "markdown",
   "id": "d2633b14-757a-417e-aff6-a860760cd6c1",
   "metadata": {},
   "source": [
    "## 7. Game Model Solution<a id=7></a>"
   ]
  },
  {
   "cell_type": "markdown",
   "id": "f866c251-5606-43a7-9121-58ca0ac667ba",
   "metadata": {},
   "source": [
    "<hr>"
   ]
  },
  {
   "cell_type": "code",
   "execution_count": 27,
   "id": "ddd8eab9-fd5c-4ac8-ba69-b866b4d7e3a9",
   "metadata": {},
   "outputs": [
    {
     "name": "stdout",
     "output_type": "stream",
     "text": [
      "ok optimal\n"
     ]
    }
   ],
   "source": [
    "opt = pe.SolverFactory('glpk')\n",
    "success = opt.solve(model)\n",
    "print(success.solver.status, success.solver.termination_condition)"
   ]
  },
  {
   "cell_type": "code",
   "execution_count": 28,
   "id": "c2bdb959-d719-4e48-8f4f-b30e3e59842b",
   "metadata": {},
   "outputs": [
    {
     "name": "stdout",
     "output_type": "stream",
     "text": [
      "Our team has a total of 223.60 Draft King points!\n",
      "The players have an average of 24.84 Draft King points!\n"
     ]
    }
   ],
   "source": [
    "obj_val = model.obj.expr()\n",
    "print(f'Our team has a total of {obj_val:.2f} Draft King points!')\n",
    "avg_obj_val = obj_val / 9\n",
    "print(f'The players have an average of {avg_obj_val:.2f} Draft King points!')"
   ]
  },
  {
   "cell_type": "code",
   "execution_count": 29,
   "id": "08b0cff1-a9a9-40ed-8adb-33207ffd70ad",
   "metadata": {},
   "outputs": [],
   "source": [
    "DV = [] \n",
    "for index in DV_Index:\n",
    "    DV.append(model.game[index].value)"
   ]
  },
  {
   "cell_type": "code",
   "execution_count": 30,
   "id": "5791b797-ed48-4b4c-85e6-dbb677c63a24",
   "metadata": {},
   "outputs": [
    {
     "data": {
      "text/html": [
       "<div>\n",
       "<style scoped>\n",
       "    .dataframe tbody tr th:only-of-type {\n",
       "        vertical-align: middle;\n",
       "    }\n",
       "\n",
       "    .dataframe tbody tr th {\n",
       "        vertical-align: top;\n",
       "    }\n",
       "\n",
       "    .dataframe thead th {\n",
       "        text-align: right;\n",
       "    }\n",
       "</style>\n",
       "<table border=\"1\" class=\"dataframe\">\n",
       "  <thead>\n",
       "    <tr style=\"text-align: right;\">\n",
       "      <th></th>\n",
       "      <th>points</th>\n",
       "      <th>Position</th>\n",
       "      <th>Salary</th>\n",
       "      <th>Team</th>\n",
       "    </tr>\n",
       "    <tr>\n",
       "      <th>Name</th>\n",
       "      <th></th>\n",
       "      <th></th>\n",
       "      <th></th>\n",
       "      <th></th>\n",
       "    </tr>\n",
       "  </thead>\n",
       "  <tbody>\n",
       "    <tr>\n",
       "      <th>Michael McLeod</th>\n",
       "      <td>20.0</td>\n",
       "      <td>C</td>\n",
       "      <td>2500</td>\n",
       "      <td>NJ</td>\n",
       "    </tr>\n",
       "    <tr>\n",
       "      <th>Boone Jenner</th>\n",
       "      <td>19.5</td>\n",
       "      <td>C</td>\n",
       "      <td>5500</td>\n",
       "      <td>CLS</td>\n",
       "    </tr>\n",
       "    <tr>\n",
       "      <th>Oliver Ekman-Larsson</th>\n",
       "      <td>21.0</td>\n",
       "      <td>D</td>\n",
       "      <td>3100</td>\n",
       "      <td>VAN</td>\n",
       "    </tr>\n",
       "    <tr>\n",
       "      <th>Ryan Graves</th>\n",
       "      <td>20.5</td>\n",
       "      <td>D</td>\n",
       "      <td>4000</td>\n",
       "      <td>NJ</td>\n",
       "    </tr>\n",
       "    <tr>\n",
       "      <th>Tristan Jarry</th>\n",
       "      <td>32.1</td>\n",
       "      <td>G</td>\n",
       "      <td>7500</td>\n",
       "      <td>PIT</td>\n",
       "    </tr>\n",
       "    <tr>\n",
       "      <th>Danton Heinen</th>\n",
       "      <td>21.5</td>\n",
       "      <td>LW</td>\n",
       "      <td>2500</td>\n",
       "      <td>PIT</td>\n",
       "    </tr>\n",
       "    <tr>\n",
       "      <th>Brady Tkachuk</th>\n",
       "      <td>30.5</td>\n",
       "      <td>LW</td>\n",
       "      <td>6000</td>\n",
       "      <td>OTT</td>\n",
       "    </tr>\n",
       "    <tr>\n",
       "      <th>Patrik Laine</th>\n",
       "      <td>35.5</td>\n",
       "      <td>RW</td>\n",
       "      <td>4800</td>\n",
       "      <td>CLS</td>\n",
       "    </tr>\n",
       "    <tr>\n",
       "      <th>David Pastrnak</th>\n",
       "      <td>23.0</td>\n",
       "      <td>RW</td>\n",
       "      <td>8500</td>\n",
       "      <td>BOS</td>\n",
       "    </tr>\n",
       "  </tbody>\n",
       "</table>\n",
       "</div>"
      ],
      "text/plain": [
       "                      points Position  Salary Team\n",
       "Name                                              \n",
       "Michael McLeod          20.0        C    2500   NJ\n",
       "Boone Jenner            19.5        C    5500  CLS\n",
       "Oliver Ekman-Larsson    21.0        D    3100  VAN\n",
       "Ryan Graves             20.5        D    4000   NJ\n",
       "Tristan Jarry           32.1        G    7500  PIT\n",
       "Danton Heinen           21.5       LW    2500  PIT\n",
       "Brady Tkachuk           30.5       LW    6000  OTT\n",
       "Patrik Laine            35.5       RW    4800  CLS\n",
       "David Pastrnak          23.0       RW    8500  BOS"
      ]
     },
     "execution_count": 30,
     "metadata": {},
     "output_type": "execute_result"
    }
   ],
   "source": [
    "all_player_points['s'] = DV\n",
    "solution_h = all_player_points[all_player_points['s'] != 0.0]\n",
    "solution_h = solution_h.drop('s', axis = 1)\n",
    "solution_h = solution_h.rename(columns = {'AvgPointsPerGame':'Average DK Points Per Game', 'TeamAbbrev':'Team'})\n",
    "solution_h = solution_h.sort_values('Position')\n",
    "solution_h"
   ]
  },
  {
   "cell_type": "code",
   "execution_count": 31,
   "id": "ab9cf695-ec5c-45a1-b5bf-de1081e5f204",
   "metadata": {},
   "outputs": [
    {
     "data": {
      "text/html": [
       "<div>\n",
       "<style scoped>\n",
       "    .dataframe tbody tr th:only-of-type {\n",
       "        vertical-align: middle;\n",
       "    }\n",
       "\n",
       "    .dataframe tbody tr th {\n",
       "        vertical-align: top;\n",
       "    }\n",
       "\n",
       "    .dataframe thead th {\n",
       "        text-align: right;\n",
       "    }\n",
       "</style>\n",
       "<table border=\"1\" class=\"dataframe\">\n",
       "  <thead>\n",
       "    <tr style=\"text-align: right;\">\n",
       "      <th></th>\n",
       "      <th>points</th>\n",
       "      <th>Salary</th>\n",
       "    </tr>\n",
       "  </thead>\n",
       "  <tbody>\n",
       "    <tr>\n",
       "      <th>Sum</th>\n",
       "      <td>223.60</td>\n",
       "      <td>44400.00</td>\n",
       "    </tr>\n",
       "    <tr>\n",
       "      <th>Average</th>\n",
       "      <td>24.84</td>\n",
       "      <td>4933.33</td>\n",
       "    </tr>\n",
       "  </tbody>\n",
       "</table>\n",
       "</div>"
      ],
      "text/plain": [
       "         points    Salary\n",
       "Sum      223.60  44400.00\n",
       "Average   24.84   4933.33"
      ]
     },
     "execution_count": 31,
     "metadata": {},
     "output_type": "execute_result"
    }
   ],
   "source": [
    "t = pd.DataFrame(solution_h.sum(numeric_only = True, axis = 0))\n",
    "t = t.T\n",
    "t.index = ['Sum']\n",
    "a = pd.DataFrame(solution_h.mean(numeric_only = True, axis = 0))\n",
    "a = a.T\n",
    "t.loc['Average'] = a.loc[0]\n",
    "t = t.round(decimals = 2)\n",
    "t"
   ]
  },
  {
   "cell_type": "markdown",
   "id": "58cf6aa2-2bf6-46ac-91e0-9561582e4e0d",
   "metadata": {},
   "source": [
    "##### [Back to Top](#Top)"
   ]
  },
  {
   "cell_type": "markdown",
   "id": "51cb5f44-0712-4cfc-aae7-a732f36146ea",
   "metadata": {},
   "source": [
    "## 8. Final Report of Solutions Found<a id=8></a>"
   ]
  },
  {
   "cell_type": "markdown",
   "id": "46a6e321-8a6d-4c91-ba9e-d63fb045d812",
   "metadata": {},
   "source": [
    "<hr>"
   ]
  },
  {
   "cell_type": "code",
   "execution_count": 32,
   "id": "dbe341d6-2f28-4f9e-8634-464eb88082a0",
   "metadata": {},
   "outputs": [
    {
     "data": {
      "text/html": [
       "<div>\n",
       "<style scoped>\n",
       "    .dataframe tbody tr th:only-of-type {\n",
       "        vertical-align: middle;\n",
       "    }\n",
       "\n",
       "    .dataframe tbody tr th {\n",
       "        vertical-align: top;\n",
       "    }\n",
       "\n",
       "    .dataframe thead th {\n",
       "        text-align: right;\n",
       "    }\n",
       "</style>\n",
       "<table border=\"1\" class=\"dataframe\">\n",
       "  <thead>\n",
       "    <tr style=\"text-align: right;\">\n",
       "      <th></th>\n",
       "      <th>Name</th>\n",
       "      <th>points</th>\n",
       "    </tr>\n",
       "  </thead>\n",
       "  <tbody>\n",
       "    <tr>\n",
       "      <th>0</th>\n",
       "      <td>Bo Horvat</td>\n",
       "      <td>16.5</td>\n",
       "    </tr>\n",
       "    <tr>\n",
       "      <th>1</th>\n",
       "      <td>Jack Drury</td>\n",
       "      <td>NaN</td>\n",
       "    </tr>\n",
       "    <tr>\n",
       "      <th>2</th>\n",
       "      <td>Dougie Hamilton</td>\n",
       "      <td>NaN</td>\n",
       "    </tr>\n",
       "    <tr>\n",
       "      <th>3</th>\n",
       "      <td>Jon Lizotte</td>\n",
       "      <td>NaN</td>\n",
       "    </tr>\n",
       "    <tr>\n",
       "      <th>4</th>\n",
       "      <td>Louis Domingue</td>\n",
       "      <td>NaN</td>\n",
       "    </tr>\n",
       "    <tr>\n",
       "      <th>5</th>\n",
       "      <td>Alex Ovechkin</td>\n",
       "      <td>8.0</td>\n",
       "    </tr>\n",
       "    <tr>\n",
       "      <th>6</th>\n",
       "      <td>Max Pacioretty</td>\n",
       "      <td>1.5</td>\n",
       "    </tr>\n",
       "    <tr>\n",
       "      <th>7</th>\n",
       "      <td>Bryan Rust</td>\n",
       "      <td>19.5</td>\n",
       "    </tr>\n",
       "    <tr>\n",
       "      <th>8</th>\n",
       "      <td>Matt Boldy</td>\n",
       "      <td>3.0</td>\n",
       "    </tr>\n",
       "  </tbody>\n",
       "</table>\n",
       "</div>"
      ],
      "text/plain": [
       "              Name  points\n",
       "0        Bo Horvat    16.5\n",
       "1       Jack Drury     NaN\n",
       "2  Dougie Hamilton     NaN\n",
       "3      Jon Lizotte     NaN\n",
       "4   Louis Domingue     NaN\n",
       "5    Alex Ovechkin     8.0\n",
       "6   Max Pacioretty     1.5\n",
       "7       Bryan Rust    19.5\n",
       "8       Matt Boldy     3.0"
      ]
     },
     "execution_count": 32,
     "metadata": {},
     "output_type": "execute_result"
    }
   ],
   "source": [
    "df = pd.merge(s_player_1, all_players, how = \"left\", on = ['Name'])\n",
    "df =  df[['Name', 'points']]\n",
    "df"
   ]
  },
  {
   "cell_type": "markdown",
   "id": "34eaced6-1484-455a-9cb6-e1c31efda656",
   "metadata": {},
   "source": [
    "The sum of my DraftKings points for the model based on previous games was 142.7 points. The sum of Draft King points based on the actual game was 223.6. This 80.9 point difference was larger than expected. We also ended up not having any of the players from our historical model in the actual version. This is partialy because we were basing our team on a smaller amount of data than needed to accurately predict a game with such a high amount of variables like hockey. Also, there will be more outliers in a single game compared to the averages for the season. This is also because four of our players that we picked ( Jack Drury, Dougie Hamilton, Jon Lizotte, and Louis Dominque) did not play in the games that night. We would have had a total of 48.5 Draft King Points with the team we picked. The best two we picked in the original model were Bryan Rust with 19.5 Draft King points and Bo Horvat with 16.5 points. However, both of those players had fewer draft king points than the average points of our team from the model of the actual night. "
   ]
  },
  {
   "cell_type": "markdown",
   "id": "221a9149-6237-4401-940d-8325803f987a",
   "metadata": {},
   "source": [
    "##### [Back to Top](#Top)"
   ]
  }
 ],
 "metadata": {
  "kernelspec": {
   "display_name": "Python 3 (ipykernel)",
   "language": "python",
   "name": "python3"
  },
  "language_info": {
   "codemirror_mode": {
    "name": "ipython",
    "version": 3
   },
   "file_extension": ".py",
   "mimetype": "text/x-python",
   "name": "python",
   "nbconvert_exporter": "python",
   "pygments_lexer": "ipython3",
   "version": "3.9.7"
  }
 },
 "nbformat": 4,
 "nbformat_minor": 5
}
